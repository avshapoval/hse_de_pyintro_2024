{
 "cells": [
  {
   "cell_type": "code",
   "execution_count": 2,
   "metadata": {},
   "outputs": [
    {
     "data": {
      "text/html": [
       "<div><style>\n",
       ".dataframe > thead > tr,\n",
       ".dataframe > tbody > tr {\n",
       "  text-align: right;\n",
       "  white-space: pre-wrap;\n",
       "}\n",
       "</style>\n",
       "<small>shape: (9, 17)</small><table border=\"1\" class=\"dataframe\"><thead><tr><th>statistic</th><th>Customer ID</th><th>Age</th><th>Gender</th><th>Loyalty Member</th><th>Product Type</th><th>SKU</th><th>Rating</th><th>Order Status</th><th>Payment Method</th><th>Total Price</th><th>Unit Price</th><th>Quantity</th><th>Purchase Date</th><th>Shipping Type</th><th>Add-ons Purchased</th><th>Add-on Total</th></tr><tr><td>str</td><td>f64</td><td>f64</td><td>str</td><td>str</td><td>str</td><td>str</td><td>f64</td><td>str</td><td>str</td><td>f64</td><td>f64</td><td>f64</td><td>str</td><td>str</td><td>str</td><td>f64</td></tr></thead><tbody><tr><td>&quot;count&quot;</td><td>20000.0</td><td>20000.0</td><td>&quot;20000&quot;</td><td>&quot;20000&quot;</td><td>&quot;20000&quot;</td><td>&quot;20000&quot;</td><td>20000.0</td><td>&quot;20000&quot;</td><td>&quot;20000&quot;</td><td>20000.0</td><td>20000.0</td><td>20000.0</td><td>&quot;20000&quot;</td><td>&quot;20000&quot;</td><td>&quot;15132&quot;</td><td>20000.0</td></tr><tr><td>&quot;null_count&quot;</td><td>0.0</td><td>0.0</td><td>&quot;0&quot;</td><td>&quot;0&quot;</td><td>&quot;0&quot;</td><td>&quot;0&quot;</td><td>0.0</td><td>&quot;0&quot;</td><td>&quot;0&quot;</td><td>0.0</td><td>0.0</td><td>0.0</td><td>&quot;0&quot;</td><td>&quot;0&quot;</td><td>&quot;4868&quot;</td><td>0.0</td></tr><tr><td>&quot;mean&quot;</td><td>10483.52655</td><td>48.9941</td><td>null</td><td>null</td><td>null</td><td>null</td><td>3.09395</td><td>null</td><td>null</td><td>3180.133419</td><td>578.631867</td><td>5.48555</td><td>null</td><td>null</td><td>null</td><td>62.244848</td></tr><tr><td>&quot;std&quot;</td><td>5631.732525</td><td>18.038745</td><td>null</td><td>null</td><td>null</td><td>null</td><td>1.223764</td><td>null</td><td>null</td><td>2544.978675</td><td>312.274076</td><td>2.870854</td><td>null</td><td>null</td><td>null</td><td>58.058431</td></tr><tr><td>&quot;min&quot;</td><td>1000.0</td><td>18.0</td><td>&quot;#N/A&quot;</td><td>&quot;No&quot;</td><td>&quot;Headphones&quot;</td><td>&quot;HDP456&quot;</td><td>1.0</td><td>&quot;Cancelled&quot;</td><td>&quot;Bank Transfer&quot;</td><td>20.75</td><td>20.75</td><td>1.0</td><td>&quot;2023-09-24&quot;</td><td>&quot;Expedited&quot;</td><td>&quot;Accessory&quot;</td><td>0.0</td></tr><tr><td>&quot;25%&quot;</td><td>5478.0</td><td>33.0</td><td>null</td><td>null</td><td>null</td><td>null</td><td>2.0</td><td>null</td><td>null</td><td>1139.68</td><td>361.18</td><td>3.0</td><td>null</td><td>null</td><td>null</td><td>7.62</td></tr><tr><td>&quot;50%&quot;</td><td>11000.0</td><td>49.0</td><td>null</td><td>null</td><td>null</td><td>null</td><td>3.0</td><td>null</td><td>null</td><td>2534.49</td><td>463.96</td><td>5.0</td><td>null</td><td>null</td><td>null</td><td>51.7</td></tr><tr><td>&quot;75%&quot;</td><td>15504.0</td><td>65.0</td><td>null</td><td>null</td><td>null</td><td>null</td><td>4.0</td><td>null</td><td>null</td><td>4639.6</td><td>791.19</td><td>8.0</td><td>null</td><td>null</td><td>null</td><td>93.84</td></tr><tr><td>&quot;max&quot;</td><td>19998.0</td><td>80.0</td><td>&quot;Male&quot;</td><td>&quot;Yes&quot;</td><td>&quot;Tablet&quot;</td><td>&quot;TBL345&quot;</td><td>5.0</td><td>&quot;Completed&quot;</td><td>&quot;Paypal&quot;</td><td>11396.8</td><td>1139.68</td><td>10.0</td><td>&quot;2024-09-23&quot;</td><td>&quot;Standard&quot;</td><td>&quot;Impulse Item,Impulse Item,Impu…</td><td>292.77</td></tr></tbody></table></div>"
      ],
      "text/plain": [
       "shape: (9, 17)\n",
       "┌────────────┬────────────┬───────────┬────────┬───┬───────────┬───────────┬───────────┬───────────┐\n",
       "│ statistic  ┆ Customer   ┆ Age       ┆ Gender ┆ … ┆ Purchase  ┆ Shipping  ┆ Add-ons   ┆ Add-on    │\n",
       "│ ---        ┆ ID         ┆ ---       ┆ ---    ┆   ┆ Date      ┆ Type      ┆ Purchased ┆ Total     │\n",
       "│ str        ┆ ---        ┆ f64       ┆ str    ┆   ┆ ---       ┆ ---       ┆ ---       ┆ ---       │\n",
       "│            ┆ f64        ┆           ┆        ┆   ┆ str       ┆ str       ┆ str       ┆ f64       │\n",
       "╞════════════╪════════════╪═══════════╪════════╪═══╪═══════════╪═══════════╪═══════════╪═══════════╡\n",
       "│ count      ┆ 20000.0    ┆ 20000.0   ┆ 20000  ┆ … ┆ 20000     ┆ 20000     ┆ 15132     ┆ 20000.0   │\n",
       "│ null_count ┆ 0.0        ┆ 0.0       ┆ 0      ┆ … ┆ 0         ┆ 0         ┆ 4868      ┆ 0.0       │\n",
       "│ mean       ┆ 10483.5265 ┆ 48.9941   ┆ null   ┆ … ┆ null      ┆ null      ┆ null      ┆ 62.244848 │\n",
       "│            ┆ 5          ┆           ┆        ┆   ┆           ┆           ┆           ┆           │\n",
       "│ std        ┆ 5631.73252 ┆ 18.038745 ┆ null   ┆ … ┆ null      ┆ null      ┆ null      ┆ 58.058431 │\n",
       "│            ┆ 5          ┆           ┆        ┆   ┆           ┆           ┆           ┆           │\n",
       "│ min        ┆ 1000.0     ┆ 18.0      ┆ #N/A   ┆ … ┆ 2023-09-2 ┆ Expedited ┆ Accessory ┆ 0.0       │\n",
       "│            ┆            ┆           ┆        ┆   ┆ 4         ┆           ┆           ┆           │\n",
       "│ 25%        ┆ 5478.0     ┆ 33.0      ┆ null   ┆ … ┆ null      ┆ null      ┆ null      ┆ 7.62      │\n",
       "│ 50%        ┆ 11000.0    ┆ 49.0      ┆ null   ┆ … ┆ null      ┆ null      ┆ null      ┆ 51.7      │\n",
       "│ 75%        ┆ 15504.0    ┆ 65.0      ┆ null   ┆ … ┆ null      ┆ null      ┆ null      ┆ 93.84     │\n",
       "│ max        ┆ 19998.0    ┆ 80.0      ┆ Male   ┆ … ┆ 2024-09-2 ┆ Standard  ┆ Impulse   ┆ 292.77    │\n",
       "│            ┆            ┆           ┆        ┆   ┆ 3         ┆           ┆ Item,Impu ┆           │\n",
       "│            ┆            ┆           ┆        ┆   ┆           ┆           ┆ lse Item, ┆           │\n",
       "│            ┆            ┆           ┆        ┆   ┆           ┆           ┆ Impu…     ┆           │\n",
       "└────────────┴────────────┴───────────┴────────┴───┴───────────┴───────────┴───────────┴───────────┘"
      ]
     },
     "execution_count": 2,
     "metadata": {},
     "output_type": "execute_result"
    }
   ],
   "source": [
    "import polars as pl\n",
    "df = pl.read_csv(r\"D:\\Users\\shap1\\Desktop\\DE_HSE_REPOS\\hse_de_pyintro_2024\\HW6\\Electronic_sales_Sep2023-Sep2024.csv\")\n",
    "\n",
    "df.describe()"
   ]
  },
  {
   "cell_type": "code",
   "execution_count": 15,
   "metadata": {},
   "outputs": [
    {
     "data": {
      "text/html": [
       "<div><style>\n",
       ".dataframe > thead > tr,\n",
       ".dataframe > tbody > tr {\n",
       "  text-align: right;\n",
       "  white-space: pre-wrap;\n",
       "}\n",
       "</style>\n",
       "<small>shape: (10, 4)</small><table border=\"1\" class=\"dataframe\"><thead><tr><th>cus_id</th><th>total_addon_spent</th><th>total_spent</th><th>preferred_payment_method</th></tr><tr><td>i64</td><td>f64</td><td>f64</td><td>str</td></tr></thead><tbody><tr><td>1000</td><td>26.09</td><td>741.09</td><td>&quot;Paypal&quot;</td></tr><tr><td>1002</td><td>60.16</td><td>5020.6</td><td>&quot;Cash&quot;</td></tr><tr><td>1003</td><td>35.56</td><td>41.5</td><td>&quot;Cash&quot;</td></tr><tr><td>1004</td><td>65.78</td><td>83.0</td><td>&quot;Credit Card&quot;</td></tr><tr><td>1005</td><td>75.33</td><td>11779.11</td><td>&quot;Debit Card&quot;</td></tr><tr><td>1006</td><td>90.38</td><td>6645.94</td><td>&quot;Paypal&quot;</td></tr><tr><td>1008</td><td>65.85</td><td>3379.32</td><td>&quot;Cash&quot;</td></tr><tr><td>1011</td><td>70.17</td><td>7911.9</td><td>&quot;Credit Card&quot;</td></tr><tr><td>1014</td><td>8.3</td><td>4747.14</td><td>&quot;Cash&quot;</td></tr><tr><td>1015</td><td>80.0</td><td>83.0</td><td>&quot;Paypal&quot;</td></tr></tbody></table></div>"
      ],
      "text/plain": [
       "shape: (10, 4)\n",
       "┌────────┬───────────────────┬─────────────┬──────────────────────────┐\n",
       "│ cus_id ┆ total_addon_spent ┆ total_spent ┆ preferred_payment_method │\n",
       "│ ---    ┆ ---               ┆ ---         ┆ ---                      │\n",
       "│ i64    ┆ f64               ┆ f64         ┆ str                      │\n",
       "╞════════╪═══════════════════╪═════════════╪══════════════════════════╡\n",
       "│ 1000   ┆ 26.09             ┆ 741.09      ┆ Paypal                   │\n",
       "│ 1002   ┆ 60.16             ┆ 5020.6      ┆ Cash                     │\n",
       "│ 1003   ┆ 35.56             ┆ 41.5        ┆ Cash                     │\n",
       "│ 1004   ┆ 65.78             ┆ 83.0        ┆ Credit Card              │\n",
       "│ 1005   ┆ 75.33             ┆ 11779.11    ┆ Debit Card               │\n",
       "│ 1006   ┆ 90.38             ┆ 6645.94     ┆ Paypal                   │\n",
       "│ 1008   ┆ 65.85             ┆ 3379.32     ┆ Cash                     │\n",
       "│ 1011   ┆ 70.17             ┆ 7911.9      ┆ Credit Card              │\n",
       "│ 1014   ┆ 8.3               ┆ 4747.14     ┆ Cash                     │\n",
       "│ 1015   ┆ 80.0              ┆ 83.0        ┆ Paypal                   │\n",
       "└────────┴───────────────────┴─────────────┴──────────────────────────┘"
      ]
     },
     "execution_count": 15,
     "metadata": {},
     "output_type": "execute_result"
    }
   ],
   "source": [
    "pay_pref_df = df.filter(pl.col(\"Order Status\") == 'Completed') \\\n",
    "    .group_by([\"Customer ID\", \"Payment Method\"]).len(name='num_trans') \\\n",
    "    .with_columns(rn = pl.col(\"num_trans\").cum_count().over(partition_by=[\"Customer ID\"])) \\\n",
    "    .filter(pl.col('rn') == 1).select([\"Customer ID\", \"Payment Method\"])\n",
    "\n",
    "result_df = df.filter(pl.col(\"Order Status\") == 'Completed') \\\n",
    "    .group_by(\"Customer ID\").agg(pl.col(\"Add-on Total\").sum(), pl.col(\"Total Price\").sum()) \\\n",
    "    .join(pay_pref_df, on='Customer ID').rename({\n",
    "        'Customer ID': 'cus_id',\n",
    "        'Add-on Total': 'total_addon_spent',\n",
    "        'Total Price': 'total_spent',\n",
    "        'Payment Method': 'preferred_payment_method'\n",
    "    })\n",
    "\n",
    " \n",
    "result_df.sort(\"cus_id\").head(10)"
   ]
  }
 ],
 "metadata": {
  "kernelspec": {
   "display_name": "Python 3",
   "language": "python",
   "name": "python3"
  },
  "language_info": {
   "codemirror_mode": {
    "name": "ipython",
    "version": 3
   },
   "file_extension": ".py",
   "mimetype": "text/x-python",
   "name": "python",
   "nbconvert_exporter": "python",
   "pygments_lexer": "ipython3",
   "version": "3.10.4"
  }
 },
 "nbformat": 4,
 "nbformat_minor": 2
}
