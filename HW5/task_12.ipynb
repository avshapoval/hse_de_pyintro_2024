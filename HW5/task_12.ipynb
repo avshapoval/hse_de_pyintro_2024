{
 "cells": [
  {
   "cell_type": "code",
   "execution_count": 29,
   "metadata": {},
   "outputs": [],
   "source": [
    "from concurrent.futures import ThreadPoolExecutor\n",
    "from typing import Callable\n",
    "import time\n",
    "\n",
    "def fun_1(a):\n",
    "    return a**2 - a**2 + a*4- a*5 + a + a\n",
    "\n",
    "def fun_2(a):\n",
    "    return a + a\n",
    "\n",
    "def fun_3(a):\n",
    "    return sum(a)\n",
    "\n",
    "def execute_fun_in_threads(num_executors, n_iter, fun: Callable):\n",
    "    start_time = time.time()\n",
    "    with ThreadPoolExecutor(num_executors) as t:\n",
    "        results_1 = [i for i in t.map(fun, range(n_iter))]\n",
    "    print(f\"Finished {fun.__name__} with {n_iter} iters and {num_executors} executors in {round(time.time() - start_time, 3)} s\")\n",
    "    return results_1\n",
    "\n",
    "def execute_iters(n_iter):\n",
    "    results_1 = execute_fun_in_threads(100, n_iter, fun_1)\n",
    "    results_2 = execute_fun_in_threads(100, n_iter, fun_2)\n",
    "\n",
    "    start_time = time.time()\n",
    "    \n",
    "    with ThreadPoolExecutor(100) as t:\n",
    "        results_3 = [i for i in t.map(fun_3, [el12 for el12 in list(zip(results_1, results_2))])]\n",
    "    print(f\"Finished fun_3 with {n_iter} and 100 executors in {round(time.time() - start_time, 3)} s\")\n",
    "\n",
    "    print(results_3[:20])\n"
   ]
  },
  {
   "cell_type": "code",
   "execution_count": 32,
   "metadata": {},
   "outputs": [
    {
     "name": "stdout",
     "output_type": "stream",
     "text": [
      "Finished fun_1 with 10000 iters and 100 executors in 0.335 s\n",
      "Finished fun_2 with 10000 iters and 100 executors in 0.243 s\n",
      "Finished fun_3 with 10000 and 100 executors in 0.257 s\n",
      "[0, 3, 6, 9, 12, 15, 18, 21, 24, 27, 30, 33, 36, 39, 42, 45, 48, 51, 54, 57]\n"
     ]
    }
   ],
   "source": [
    "execute_iters(10000)"
   ]
  },
  {
   "cell_type": "code",
   "execution_count": 33,
   "metadata": {},
   "outputs": [
    {
     "name": "stdout",
     "output_type": "stream",
     "text": [
      "Finished fun_1 with 100000 iters and 100 executors in 4.338 s\n",
      "Finished fun_2 with 100000 iters and 100 executors in 3.978 s\n",
      "Finished fun_3 with 100000 and 100 executors in 2.992 s\n",
      "[0, 3, 6, 9, 12, 15, 18, 21, 24, 27, 30, 33, 36, 39, 42, 45, 48, 51, 54, 57]\n"
     ]
    }
   ],
   "source": [
    "execute_iters(100000)"
   ]
  }
 ],
 "metadata": {
  "kernelspec": {
   "display_name": "Python 3",
   "language": "python",
   "name": "python3"
  },
  "language_info": {
   "codemirror_mode": {
    "name": "ipython",
    "version": 3
   },
   "file_extension": ".py",
   "mimetype": "text/x-python",
   "name": "python",
   "nbconvert_exporter": "python",
   "pygments_lexer": "ipython3",
   "version": "3.10.4"
  }
 },
 "nbformat": 4,
 "nbformat_minor": 2
}
